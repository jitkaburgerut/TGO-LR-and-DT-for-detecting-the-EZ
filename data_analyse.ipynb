{
 "cells": [
  {
   "cell_type": "markdown",
   "metadata": {},
   "source": [
    "# 1. Import required modules"
   ]
  },
  {
   "cell_type": "code",
   "execution_count": null,
   "metadata": {},
   "outputs": [],
   "source": [
    "import matplotlib\n",
    "import numpy as np # arrays, fourier transformatie, matrixen, domein lineaire algabra\n",
    "import pandas as pd # analyseren van data \n",
    "import seaborn as sns\n",
    "from sklearn import metrics\n",
    "import statsmodels.api as sm\n",
    "import sklearn as sl\n",
    "#\n",
    "\n",
    "# plotten\n",
    "import matplotlib.pyplot as plt\n",
    "%matplotlib inline\n",
    "\n",
    "print('All libraries are installed')"
   ]
  },
  {
   "cell_type": "markdown",
   "metadata": {},
   "source": [
    "# 2. Read data"
   ]
  },
  {
   "cell_type": "code",
   "execution_count": null,
   "metadata": {},
   "outputs": [],
   "source": [
    "dataset = pd.read_csv('dfFeaturesTGO_train.csv')"
   ]
  },
  {
   "cell_type": "markdown",
   "metadata": {},
   "source": [
    "# 3. Data exploration"
   ]
  },
  {
   "cell_type": "code",
   "execution_count": null,
   "metadata": {},
   "outputs": [],
   "source": [
    "dataset['label'].value_counts()\n",
    "\n",
    "sns.countplot(x='label', data=dataset)\n",
    "plt.title(\"Verdeling waarnemingen\")\n",
    "plt.show()\n",
    "\n",
    "# dataset.info()\n"
   ]
  },
  {
   "cell_type": "markdown",
   "metadata": {},
   "source": [
    "**Evaluating possible Null data:** <br>\n",
    "In case of missing data the ML model might malfunction. We need to be aware of any missing data and may need to remove this observation from our dataset.\n",
    "If there's no white in the figure below, then there is no missing data."
   ]
  },
  {
   "cell_type": "code",
   "execution_count": null,
   "metadata": {},
   "outputs": [],
   "source": [
    "dataset.isnull()\n",
    "f, ax = plt.subplots(figsize=(20, 10))\n",
    "sns.heatmap(dataset.isnull(), cbar=False)\n",
    "plt.show()"
   ]
  },
  {
   "cell_type": "markdown",
   "metadata": {},
   "source": [
    "### **Formulate X and Y:**"
   ]
  },
  {
   "cell_type": "code",
   "execution_count": null,
   "metadata": {},
   "outputs": [],
   "source": [
    "X_features = dataset.drop(columns=['label'])\n",
    "Y_label=dataset['label']        #bestaat als het goed is uit 200 samples verdeeld over 2 classes: 1= epileptisch, 0=niet-epileptisch\n"
   ]
  },
  {
   "cell_type": "markdown",
   "metadata": {},
   "source": [
    "**Visualizing datadistribution per feature:**"
   ]
  },
  {
   "cell_type": "code",
   "execution_count": null,
   "metadata": {},
   "outputs": [],
   "source": [
    "features = ['abs delta', 'rel delta', 'abs theta', 'rel theta',\n",
    "       'abs alpha', 'rel alpha', 'abs beta', 'rel beta', 'abs gamma',\n",
    "       'rel gamma', 'abs ripple', 'rel ripple', 'abs fast ripple',\n",
    "       'rel fast ripple', 'abs superfast ripple', 'rel superfast ripple',\n",
    "       'mean PSD', 'std PSD', 'Absolute energy',\n",
    "       'Area under the curve', 'Autocorrelation', 'Centroid', 'Entropy',\n",
    "       'Fundamental frequency', 'Human range energy', 'Interquartile range',\n",
    "       'Kurtosis', 'Max', 'Max power spectrum', 'Maximum frequency', 'Mean',\n",
    "       'Mean absolute deviation', 'Mean absolute diff', 'Mean diff', 'Median',\n",
    "       'Median absolute deviation', 'Median absolute diff', 'Median diff',\n",
    "       'Median frequency', 'Min', 'Negative turning points',\n",
    "       'Neighbourhood peaks', 'Peak to peak distance',\n",
    "       'Positive turning points', 'Power bandwidth', 'Root mean square',\n",
    "       'Signal distance', 'Skewness', 'Slope', 'Spectral centroid',\n",
    "       'Spectral decrease', 'Spectral distance', 'Spectral entropy',\n",
    "       'Spectral kurtosis', 'Spectral positive turning points',\n",
    "       'Spectral roll-off', 'Spectral roll-on', 'Spectral skewness',\n",
    "       'Spectral slope', 'Spectral spread', 'Spectral variation',\n",
    "       'Standard deviation', 'Sum absolute diff', 'Total energy', 'Variance',\n",
    "       'Zero crossing rate']\n",
    "\n",
    "for i in features[:]:\n",
    "    plt.figure()\n",
    "    plt.title([i])\n",
    "    plt.scatter(dataset[i],dataset['label'])\n"
   ]
  },
  {
   "cell_type": "markdown",
   "metadata": {},
   "source": [
    "### **Histogram of distribution of observations per feature:** <br>\n",
    "Giving insight in the distribution of features for non-epileptic and epileptic observations."
   ]
  },
  {
   "cell_type": "code",
   "execution_count": null,
   "metadata": {},
   "outputs": [],
   "source": [
    "for i in features[:]:\n",
    "    \n",
    "    sns.displot(dataset, x =dataset[i], kde=False, hue='label', bins=60)\n",
    "    # plt.legend(prop={'size':12}, )\n",
    "    plt.title('Distribution of observations for feature:')\n",
    "    plt.xlabel([i])\n",
    "    plt.ylabel('number of observations')\n",
    "    plt.show()"
   ]
  },
  {
   "cell_type": "code",
   "execution_count": null,
   "metadata": {},
   "outputs": [],
   "source": [
    "for i in features[:]:\n",
    "    \n",
    "    sns.displot(dataset, x =dataset[i], kde=True, hue='label', bins=100, log_scale=True)\n",
    "    # plt.legend(prop={'size':12}, )\n",
    "    plt.title('Distribution of observations for feature:')\n",
    "    plt.xlabel([i])\n",
    "    plt.ylabel('number of observations')\n",
    "    plt.show()"
   ]
  },
  {
   "cell_type": "code",
   "execution_count": null,
   "metadata": {},
   "outputs": [],
   "source": [
    "for i in features[40:]:\n",
    "    \n",
    "    sns.displot(dataset, x =dataset[i], kde=True, hue='label', bins=100, log_scale=True)\n",
    "    # plt.legend(prop={'size':12}, )\n",
    "    plt.title('Distribution of observations for feature:')\n",
    "    plt.xlabel([i])\n",
    "    plt.ylabel('number of observations')\n",
    "    plt.show()"
   ]
  },
  {
   "cell_type": "code",
   "execution_count": null,
   "metadata": {},
   "outputs": [],
   "source": [
    "for i in features[52:]:\n",
    "    \n",
    "    sns.displot(dataset, x =dataset[i], kde=True, hue='label', bins=100, log_scale=True)\n",
    "    # plt.legend(prop={'size':12}, )\n",
    "    plt.title('Distribution of observations for feature:')\n",
    "    plt.xlabel([i])\n",
    "    plt.ylabel('number of observations')\n",
    "    plt.show()"
   ]
  },
  {
   "cell_type": "code",
   "execution_count": null,
   "metadata": {},
   "outputs": [],
   "source": [
    "for i in features[59:]:\n",
    "    \n",
    "    sns.displot(dataset, x =dataset[i], kde=True, hue='label', bins=100, log_scale=True)\n",
    "    # plt.legend(prop={'size':12}, )\n",
    "    plt.title('Distribution of observations for feature:')\n",
    "    plt.xlabel([i])\n",
    "    plt.ylabel('number of observations')\n",
    "    plt.show()"
   ]
  },
  {
   "cell_type": "markdown",
   "metadata": {},
   "source": [
    "### **Plotting pairwise correlation:**"
   ]
  },
  {
   "cell_type": "code",
   "execution_count": null,
   "metadata": {},
   "outputs": [],
   "source": [
    "corr = X_features.corr()\n",
    "\n",
    "# Given that the correlation table is symmetrical, the upper triangel was removed\n",
    "mask = np.zeros_like(corr, dtype=bool)\n",
    "mask[np.triu_indices_from(mask)] = True\n",
    "\n",
    "f, ax = plt.subplots(figsize=(30, 20))\n",
    "\n",
    "figure = sns.heatmap(corr, mask=mask, cmap= 'BrBG', vmax=1, center=0, square=True, linewidths=.5, annot=False)\n",
    "figure.set_title('Correlation Heatmap of Features')"
   ]
  }
 ],
 "metadata": {
  "kernelspec": {
   "display_name": "Python 3.9.7 ('base')",
   "language": "python",
   "name": "python3"
  },
  "language_info": {
   "codemirror_mode": {
    "name": "ipython",
    "version": 3
   },
   "file_extension": ".py",
   "mimetype": "text/x-python",
   "name": "python",
   "nbconvert_exporter": "python",
   "pygments_lexer": "ipython3",
   "version": "3.9.7"
  },
  "orig_nbformat": 4,
  "vscode": {
   "interpreter": {
    "hash": "1b8146aa0d8ecf702ba4689cb295235a95f9c56a181a174157d428f265f8dc4d"
   }
  }
 },
 "nbformat": 4,
 "nbformat_minor": 2
}
